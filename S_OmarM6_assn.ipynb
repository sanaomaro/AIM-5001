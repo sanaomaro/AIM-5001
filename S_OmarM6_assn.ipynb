{
  "nbformat": 4,
  "nbformat_minor": 0,
  "metadata": {
    "colab": {
      "provenance": [],
      "authorship_tag": "ABX9TyNaKW1OlrjZ/0xSsHugkRzN",
      "include_colab_link": true
    },
    "kernelspec": {
      "name": "python3",
      "display_name": "Python 3"
    },
    "language_info": {
      "name": "python"
    }
  },
  "cells": [
    {
      "cell_type": "markdown",
      "metadata": {
        "id": "view-in-github",
        "colab_type": "text"
      },
      "source": [
        "<a href=\"https://colab.research.google.com/github/sanaomaro/AIM-5001/blob/main/S_OmarM6_assn.ipynb\" target=\"_parent\"><img src=\"https://colab.research.google.com/assets/colab-badge.svg\" alt=\"Open In Colab\"/></a>"
      ]
    },
    {
      "cell_type": "code",
      "execution_count": null,
      "metadata": {
        "id": "DTcWBbidXn26"
      },
      "outputs": [],
      "source": [
        "import pandas as pd\n",
        "import numpy as np"
      ]
    },
    {
      "cell_type": "markdown",
      "source": [
        "**QUESTION 7**"
      ],
      "metadata": {
        "id": "u5wKRa90aVWU"
      }
    },
    {
      "cell_type": "code",
      "source": [
        "\n",
        "# supress scientific notation\n",
        "np.set_printoptions(suppress = True)\n",
        "# read the data file from GitHub and convert to a NumPy ndarray object\n",
        "# be sure to replace the ‘link_to_raw_copy of data file in your Github Repository’ placeholder shown below\n",
        "# with a link to the “raw” version of the file you pushed to your online GitHub repository\n",
        "nyc_water = pd.read_csv(\"https://raw.githubusercontent.com/sanaomaro/AIM-5001/main/M6_Data.csv\").to_numpy()\n",
        "# verify you have an ndarray object\n",
        "type(nyc_water)\n"
      ],
      "metadata": {
        "colab": {
          "base_uri": "https://localhost:8080/"
        },
        "id": "iEKSlP-rA_J5",
        "outputId": "c71de097-4de9-4d89-a947-e41f0f9a4f18"
      },
      "execution_count": null,
      "outputs": [
        {
          "output_type": "execute_result",
          "data": {
            "text/plain": [
              "numpy.ndarray"
            ]
          },
          "metadata": {},
          "execution_count": 124
        }
      ]
    },
    {
      "cell_type": "code",
      "source": [
        "nyc_water"
      ],
      "metadata": {
        "colab": {
          "base_uri": "https://localhost:8080/"
        },
        "id": "50vQYgRsCQEA",
        "outputId": "8bb2dd47-5a14-426c-8b57-939b09f5d84e"
      },
      "execution_count": null,
      "outputs": [
        {
          "output_type": "execute_result",
          "data": {
            "text/plain": [
              "array([[   1979. , 7102100. ,    1512. ,     213. ],\n",
              "       [   1980. , 7071639. ,    1506. ,     213. ],\n",
              "       [   1981. , 7089241. ,    1309. ,     185. ],\n",
              "       [   1982. , 7109105. ,    1382. ,     194. ],\n",
              "       [   1983. , 7181224. ,    1424. ,     198. ],\n",
              "       [   1984. , 7234514. ,    1465. ,     203. ],\n",
              "       [   1985. , 7274054. ,    1326. ,     182. ],\n",
              "       [   1986. , 7319246. ,    1351. ,     185. ],\n",
              "       [   1987. , 7342476. ,    1447. ,     197. ],\n",
              "       [   1988. , 7353719. ,    1484. ,     202. ],\n",
              "       [   1989. , 7344175. ,    1402. ,     191. ],\n",
              "       [   1990. , 7335650. ,    1424. ,     194. ],\n",
              "       [   1991. , 7374501. ,    1469. ,     199. ],\n",
              "       [   1992. , 7428944. ,    1369. ,     184. ],\n",
              "       [   1993. , 7506166. ,    1368.5,     182. ],\n",
              "       [   1994. , 7570458. ,    1357.7,     179. ],\n",
              "       [   1995. , 7633040. ,    1325.7,     174. ],\n",
              "       [   1996. , 7697812. ,    1297.9,     169. ],\n",
              "       [   1997. , 7773443. ,    1205.5,     155. ],\n",
              "       [   1998. , 7858259. ,    1219.5,     155. ],\n",
              "       [   1999. , 7947660. ,    1237.2,     156. ],\n",
              "       [   2000. , 8008278. ,    1240.4,     155. ],\n",
              "       [   2001. , 8024963.5,    1184. ,     148. ],\n",
              "       [   2002. , 8041649. ,    1135.6,     141. ],\n",
              "       [   2003. , 8058334.5,    1093.7,     136. ],\n",
              "       [   2004. , 8075020. ,    1099.5,     136. ],\n",
              "       [   2005. , 8091705.5,    1138. ,     141. ],\n",
              "       [   2006. , 8108391. ,    1069. ,     132. ],\n",
              "       [   2007. , 8125076.5,    1114. ,     137. ],\n",
              "       [   2008. , 8141762. ,    1098. ,     135. ],\n",
              "       [   2009. , 8158447.5,    1007.5,     123. ],\n",
              "       [   2010. , 8175133. ,    1039. ,     127. ],\n",
              "       [   2011. , 8284098. ,    1021. ,     123. ],\n",
              "       [   2012. , 8361179. ,    1009.1,     121. ],\n",
              "       [   2013. , 8422460. ,    1006.1,     119. ],\n",
              "       [   2014. , 8471990. ,     996. ,     118. ],\n",
              "       [   2015. , 8516502. ,    1009. ,     118. ],\n",
              "       [   2016. , 8537673. ,    1002. ,     117. ],\n",
              "       [   2017. , 8622698. ,     990.2,     115. ]])"
            ]
          },
          "metadata": {},
          "execution_count": 125
        }
      ]
    },
    {
      "cell_type": "code",
      "source": [
        "nyc_water.shape"
      ],
      "metadata": {
        "colab": {
          "base_uri": "https://localhost:8080/"
        },
        "id": "8gtddkFJDdxo",
        "outputId": "8e7223b5-1966-451a-8e2f-e706674269b9"
      },
      "execution_count": null,
      "outputs": [
        {
          "output_type": "execute_result",
          "data": {
            "text/plain": [
              "(39, 4)"
            ]
          },
          "metadata": {},
          "execution_count": 126
        }
      ]
    },
    {
      "cell_type": "markdown",
      "source": [
        "**What is the maximum yearly NYC consumption of water in millions of gallons per day?**"
      ],
      "metadata": {
        "id": "o4xp0ePVEHgw"
      }
    },
    {
      "cell_type": "code",
      "source": [
        "nyc_water[:,2]"
      ],
      "metadata": {
        "colab": {
          "base_uri": "https://localhost:8080/"
        },
        "id": "OvbMWOUHOArI",
        "outputId": "b6bf492e-09f1-4867-8f53-51705f9bced7"
      },
      "execution_count": null,
      "outputs": [
        {
          "output_type": "execute_result",
          "data": {
            "text/plain": [
              "array([1512. , 1506. , 1309. , 1382. , 1424. , 1465. , 1326. , 1351. ,\n",
              "       1447. , 1484. , 1402. , 1424. , 1469. , 1369. , 1368.5, 1357.7,\n",
              "       1325.7, 1297.9, 1205.5, 1219.5, 1237.2, 1240.4, 1184. , 1135.6,\n",
              "       1093.7, 1099.5, 1138. , 1069. , 1114. , 1098. , 1007.5, 1039. ,\n",
              "       1021. , 1009.1, 1006.1,  996. , 1009. , 1002. ,  990.2])"
            ]
          },
          "metadata": {},
          "execution_count": 128
        }
      ]
    },
    {
      "cell_type": "code",
      "source": [
        "#our data is in the the third colummn , we slice the column and apply max function\n",
        "nyc_water[:,2].max()"
      ],
      "metadata": {
        "colab": {
          "base_uri": "https://localhost:8080/"
        },
        "id": "bGqqI-ooDihZ",
        "outputId": "81561f92-634f-4935-d0a4-a3189eed6a49"
      },
      "execution_count": null,
      "outputs": [
        {
          "output_type": "execute_result",
          "data": {
            "text/plain": [
              "1512.0"
            ]
          },
          "metadata": {},
          "execution_count": 127
        }
      ]
    },
    {
      "cell_type": "markdown",
      "source": [
        "**How many calendar years are represented within this data set? NumPy's shape command is one way to find \n",
        "out**"
      ],
      "metadata": {
        "id": "3m7K6GXwEC8J"
      }
    },
    {
      "cell_type": "code",
      "source": [
        "nyc_water.shape\n",
        "#the solution is 39"
      ],
      "metadata": {
        "colab": {
          "base_uri": "https://localhost:8080/"
        },
        "id": "GdVwXi7TPs7g",
        "outputId": "3c786101-fba4-4dc0-eed7-4a407955ddba"
      },
      "execution_count": null,
      "outputs": [
        {
          "output_type": "execute_result",
          "data": {
            "text/plain": [
              "(39, 4)"
            ]
          },
          "metadata": {},
          "execution_count": 138
        }
      ]
    },
    {
      "cell_type": "code",
      "source": [
        "nyc_water[:,0]"
      ],
      "metadata": {
        "colab": {
          "base_uri": "https://localhost:8080/"
        },
        "id": "CpOhUiEvOX6w",
        "outputId": "1ff1f3f8-1ca9-4141-f8af-abe5eb265f94"
      },
      "execution_count": null,
      "outputs": [
        {
          "output_type": "execute_result",
          "data": {
            "text/plain": [
              "array([1979., 1980., 1981., 1982., 1983., 1984., 1985., 1986., 1987.,\n",
              "       1988., 1989., 1990., 1991., 1992., 1993., 1994., 1995., 1996.,\n",
              "       1997., 1998., 1999., 2000., 2001., 2002., 2003., 2004., 2005.,\n",
              "       2006., 2007., 2008., 2009., 2010., 2011., 2012., 2013., 2014.,\n",
              "       2015., 2016., 2017.])"
            ]
          },
          "metadata": {},
          "execution_count": 133
        }
      ]
    },
    {
      "cell_type": "code",
      "source": [
        "years = nyc_water[:,0]\n",
        "years"
      ],
      "metadata": {
        "colab": {
          "base_uri": "https://localhost:8080/"
        },
        "id": "mJIdA8MePIwo",
        "outputId": "33eb6bf2-1466-4a7e-c3d4-b901f16bc54b"
      },
      "execution_count": null,
      "outputs": [
        {
          "output_type": "execute_result",
          "data": {
            "text/plain": [
              "array([1979., 1980., 1981., 1982., 1983., 1984., 1985., 1986., 1987.,\n",
              "       1988., 1989., 1990., 1991., 1992., 1993., 1994., 1995., 1996.,\n",
              "       1997., 1998., 1999., 2000., 2001., 2002., 2003., 2004., 2005.,\n",
              "       2006., 2007., 2008., 2009., 2010., 2011., 2012., 2013., 2014.,\n",
              "       2015., 2016., 2017.])"
            ]
          },
          "metadata": {},
          "execution_count": 135
        }
      ]
    },
    {
      "cell_type": "code",
      "source": [
        "#trying to count a specific column for non zero values of years\n",
        "np.count_nonzero(years)"
      ],
      "metadata": {
        "colab": {
          "base_uri": "https://localhost:8080/"
        },
        "id": "cKuKYreFObag",
        "outputId": "1c77c776-6d84-4a9d-f212-9f3be6799665"
      },
      "execution_count": null,
      "outputs": [
        {
          "output_type": "execute_result",
          "data": {
            "text/plain": [
              "39"
            ]
          },
          "metadata": {},
          "execution_count": 139
        }
      ]
    },
    {
      "cell_type": "markdown",
      "source": [
        "**What is the mean and the standard deviation of the per capita daily water consumption?**"
      ],
      "metadata": {
        "id": "DJxdJH7FHB6z"
      }
    },
    {
      "cell_type": "code",
      "source": [
        "nyc_water[:,3]"
      ],
      "metadata": {
        "colab": {
          "base_uri": "https://localhost:8080/"
        },
        "id": "zvCzj8BoEI4h",
        "outputId": "96b6e6f7-7f5e-446a-a9b1-3d258b85a26b"
      },
      "execution_count": null,
      "outputs": [
        {
          "output_type": "execute_result",
          "data": {
            "text/plain": [
              "array([213., 213., 185., 194., 198., 203., 182., 185., 197., 202., 191.,\n",
              "       194., 199., 184., 182., 179., 174., 169., 155., 155., 156., 155.,\n",
              "       148., 141., 136., 136., 141., 132., 137., 135., 123., 127., 123.,\n",
              "       121., 119., 118., 118., 117., 115.])"
            ]
          },
          "metadata": {},
          "execution_count": 140
        }
      ]
    },
    {
      "cell_type": "code",
      "source": [
        "#the mean\n",
        "nyc_water[:,3].mean()"
      ],
      "metadata": {
        "colab": {
          "base_uri": "https://localhost:8080/"
        },
        "id": "DioQL6mxHXDy",
        "outputId": "a5b7925d-b7a1-4cc6-f36b-938b8cd5e33f"
      },
      "execution_count": null,
      "outputs": [
        {
          "output_type": "execute_result",
          "data": {
            "text/plain": [
              "160.30769230769232"
            ]
          },
          "metadata": {},
          "execution_count": 141
        }
      ]
    },
    {
      "cell_type": "code",
      "source": [
        "nyc_water.size"
      ],
      "metadata": {
        "colab": {
          "base_uri": "https://localhost:8080/"
        },
        "id": "Vy3uVclFIkV8",
        "outputId": "e2599e83-6875-49d1-a7b3-d09ea6dc84c9"
      },
      "execution_count": null,
      "outputs": [
        {
          "output_type": "execute_result",
          "data": {
            "text/plain": [
              "156"
            ]
          },
          "metadata": {},
          "execution_count": 142
        }
      ]
    },
    {
      "cell_type": "code",
      "source": [
        "# we use the standard deviation function of numpy array, which is here another numby array of size 4\n",
        "print(np.std(nyc_water, axis=0))\n",
        "sd = np.std(nyc_water, axis=0)\n",
        "type(sd)"
      ],
      "metadata": {
        "colab": {
          "base_uri": "https://localhost:8080/"
        },
        "id": "RUXy1yoBJ0Fg",
        "outputId": "3afacdb5-2790-48b4-ff7e-21d1cd1a684b"
      },
      "execution_count": null,
      "outputs": [
        {
          "output_type": "stream",
          "name": "stdout",
          "text": [
            "[    11.25462868 470923.52098422    172.46702157     31.5189433 ]\n"
          ]
        },
        {
          "output_type": "execute_result",
          "data": {
            "text/plain": [
              "numpy.ndarray"
            ]
          },
          "metadata": {},
          "execution_count": 144
        }
      ]
    },
    {
      "cell_type": "code",
      "source": [
        "sd.shape"
      ],
      "metadata": {
        "colab": {
          "base_uri": "https://localhost:8080/"
        },
        "id": "3vEHEZKrQOHT",
        "outputId": "759dd084-eec2-4ac9-cf26-6ffa14055b15"
      },
      "execution_count": null,
      "outputs": [
        {
          "output_type": "execute_result",
          "data": {
            "text/plain": [
              "(4,)"
            ]
          },
          "metadata": {},
          "execution_count": 145
        }
      ]
    },
    {
      "cell_type": "code",
      "source": [
        "nyc_water[:,3]"
      ],
      "metadata": {
        "colab": {
          "base_uri": "https://localhost:8080/"
        },
        "id": "uxS5tE6VKkQ9",
        "outputId": "039fdc48-1a8f-4fa9-a8c4-1afa2370c135"
      },
      "execution_count": null,
      "outputs": [
        {
          "output_type": "execute_result",
          "data": {
            "text/plain": [
              "array([213., 213., 185., 194., 198., 203., 182., 185., 197., 202., 191.,\n",
              "       194., 199., 184., 182., 179., 174., 169., 155., 155., 156., 155.,\n",
              "       148., 141., 136., 136., 141., 132., 137., 135., 123., 127., 123.,\n",
              "       121., 119., 118., 118., 117., 115.])"
            ]
          },
          "metadata": {},
          "execution_count": 146
        }
      ]
    },
    {
      "cell_type": "code",
      "source": [
        "#applying std directly to the specific column\n",
        "np.std(nyc_water[:,3])"
      ],
      "metadata": {
        "colab": {
          "base_uri": "https://localhost:8080/"
        },
        "id": "HM6s5md5QZJu",
        "outputId": "30d799f4-6cbf-4efc-8080-7d7edd9bb847"
      },
      "execution_count": null,
      "outputs": [
        {
          "output_type": "execute_result",
          "data": {
            "text/plain": [
              "31.51894330370624"
            ]
          },
          "metadata": {},
          "execution_count": 148
        }
      ]
    },
    {
      "cell_type": "code",
      "source": [
        "#the standard deviation out of the array sd\n",
        "sd[3]"
      ],
      "metadata": {
        "colab": {
          "base_uri": "https://localhost:8080/"
        },
        "id": "L8aGksc6KfVt",
        "outputId": "daf683d5-a959-4df1-ef68-08dbdb3bf589"
      },
      "execution_count": null,
      "outputs": [
        {
          "output_type": "execute_result",
          "data": {
            "text/plain": [
              "31.51894330370624"
            ]
          },
          "metadata": {},
          "execution_count": 149
        }
      ]
    },
    {
      "cell_type": "code",
      "source": [
        "len(nyc_water)"
      ],
      "metadata": {
        "colab": {
          "base_uri": "https://localhost:8080/"
        },
        "id": "sdeLXzzbMTJI",
        "outputId": "6cd3df7e-c46a-404b-c925-eab5d7901469"
      },
      "execution_count": null,
      "outputs": [
        {
          "output_type": "execute_result",
          "data": {
            "text/plain": [
              "39"
            ]
          },
          "metadata": {},
          "execution_count": 150
        }
      ]
    },
    {
      "cell_type": "markdown",
      "source": [
        "**What is the increase or decrease in population from year to year? Use NumPy's `diff` function to create an array \n",
        "of differences and save that to a variable called \"pop_diff\", then print that variable to the screen.**"
      ],
      "metadata": {
        "id": "P2wLKv0hLkqB"
      }
    },
    {
      "cell_type": "code",
      "source": [
        "#our population colum is the second one\n",
        "nyc_water[:,1]"
      ],
      "metadata": {
        "colab": {
          "base_uri": "https://localhost:8080/"
        },
        "id": "PFe8JVU_MwIR",
        "outputId": "31fb49e4-ec5f-4593-e4e1-6b62f02727da"
      },
      "execution_count": null,
      "outputs": [
        {
          "output_type": "execute_result",
          "data": {
            "text/plain": [
              "array([7102100. , 7071639. , 7089241. , 7109105. , 7181224. , 7234514. ,\n",
              "       7274054. , 7319246. , 7342476. , 7353719. , 7344175. , 7335650. ,\n",
              "       7374501. , 7428944. , 7506166. , 7570458. , 7633040. , 7697812. ,\n",
              "       7773443. , 7858259. , 7947660. , 8008278. , 8024963.5, 8041649. ,\n",
              "       8058334.5, 8075020. , 8091705.5, 8108391. , 8125076.5, 8141762. ,\n",
              "       8158447.5, 8175133. , 8284098. , 8361179. , 8422460. , 8471990. ,\n",
              "       8516502. , 8537673. , 8622698. ])"
            ]
          },
          "metadata": {},
          "execution_count": 154
        }
      ]
    },
    {
      "cell_type": "code",
      "source": [
        "pop_diff = np.diff(nyc_water[:,1])\n",
        "pop_diff\n",
        "#some diffrences are by minus which means a decreasing in the popolation has happened"
      ],
      "metadata": {
        "colab": {
          "base_uri": "https://localhost:8080/"
        },
        "id": "9yUwz2voMl9Y",
        "outputId": "87311bdc-39ed-4b23-be92-68d680ee1ec9"
      },
      "execution_count": null,
      "outputs": [
        {
          "output_type": "execute_result",
          "data": {
            "text/plain": [
              "array([-30461. ,  17602. ,  19864. ,  72119. ,  53290. ,  39540. ,\n",
              "        45192. ,  23230. ,  11243. ,  -9544. ,  -8525. ,  38851. ,\n",
              "        54443. ,  77222. ,  64292. ,  62582. ,  64772. ,  75631. ,\n",
              "        84816. ,  89401. ,  60618. ,  16685.5,  16685.5,  16685.5,\n",
              "        16685.5,  16685.5,  16685.5,  16685.5,  16685.5,  16685.5,\n",
              "        16685.5, 108965. ,  77081. ,  61281. ,  49530. ,  44512. ,\n",
              "        21171. ,  85025. ])"
            ]
          },
          "metadata": {},
          "execution_count": 155
        }
      ]
    },
    {
      "cell_type": "markdown",
      "source": [
        "**QUESTION 1**"
      ],
      "metadata": {
        "id": "2EvDAtdOabxX"
      }
    },
    {
      "cell_type": "markdown",
      "source": [
        "**Finding Intersection with no repetition**"
      ],
      "metadata": {
        "id": "8I-Xs_86r8qx"
      }
    },
    {
      "cell_type": "code",
      "source": [
        "a = np.array([1, 2, 3, 2, 3, 4, 3, 4, 5, 6])\n",
        "b = np.array([7, 2, 10, 2, 7, 4, 9, 4, 9, 8])\n",
        "print(np.intersect1d(a, b))"
      ],
      "metadata": {
        "colab": {
          "base_uri": "https://localhost:8080/"
        },
        "id": "68tFRJF2fojD",
        "outputId": "443f3f94-e426-434f-bd1d-84e66696411b"
      },
      "execution_count": null,
      "outputs": [
        {
          "output_type": "stream",
          "name": "stdout",
          "text": [
            "[2 4]\n"
          ]
        }
      ]
    },
    {
      "cell_type": "markdown",
      "source": [
        "**QUESTION 2**"
      ],
      "metadata": {
        "id": "_T8o58ErarAz"
      }
    },
    {
      "cell_type": "markdown",
      "source": [
        "**Creating and Converting 1d to 2d array using sequencing which Is linspace**"
      ],
      "metadata": {
        "id": "lCYGC_YSsBsI"
      }
    },
    {
      "cell_type": "code",
      "source": [
        "arr = np.linspace(start = 1, stop = 15, num = 15, dtype =\"int\") #linspace makes array according to start stop and number of values\n",
        "print(arr)\n",
        "#reshape to make it 2d\n",
        "arrr = np.reshape(arr,(5,3), order='F') #Fortran like order which is a column wise order\n",
        "print(arrr)"
      ],
      "metadata": {
        "colab": {
          "base_uri": "https://localhost:8080/"
        },
        "id": "jechgdDEnUJE",
        "outputId": "591164bc-035e-461f-c1e9-8834166671b7"
      },
      "execution_count": null,
      "outputs": [
        {
          "output_type": "stream",
          "name": "stdout",
          "text": [
            "[ 1  2  3  4  5  6  7  8  9 10 11 12 13 14 15]\n",
            "[[ 1  6 11]\n",
            " [ 2  7 12]\n",
            " [ 3  8 13]\n",
            " [ 4  9 14]\n",
            " [ 5 10 15]]\n"
          ]
        }
      ]
    },
    {
      "cell_type": "code",
      "source": [
        "#attempt just for confirmation on slicing\n",
        "arr1 = np.array([[23,67],[78,92]])\n",
        "print(arr1)\n",
        "arr1[1,0]\n",
        "arr1.shape"
      ],
      "metadata": {
        "colab": {
          "base_uri": "https://localhost:8080/"
        },
        "id": "xoWhgocpSkoQ",
        "outputId": "47f45e3f-5fa9-4bcf-cfea-116d006d2f23"
      },
      "execution_count": null,
      "outputs": [
        {
          "output_type": "stream",
          "name": "stdout",
          "text": [
            "[[23 67]\n",
            " [78 92]]\n"
          ]
        },
        {
          "output_type": "execute_result",
          "data": {
            "text/plain": [
              "(2, 2)"
            ]
          },
          "metadata": {},
          "execution_count": 187
        }
      ]
    },
    {
      "cell_type": "markdown",
      "source": [
        "**QUESTION 3**"
      ],
      "metadata": {
        "id": "usSmPAMbavz_"
      }
    },
    {
      "cell_type": "markdown",
      "source": [
        "**Flettening, three ways**"
      ],
      "metadata": {
        "id": "tsikR4mGrzYQ"
      }
    },
    {
      "cell_type": "code",
      "source": [
        "#using flatten method with Fortran like order\n",
        "res = arrr.flatten(order ='F')\n",
        "print(res)\n",
        "print(res.shape)\n",
        "print(arrr)\n",
        "arrr.shape"
      ],
      "metadata": {
        "colab": {
          "base_uri": "https://localhost:8080/"
        },
        "id": "_eFtl4DRpObu",
        "outputId": "3b52abb5-b80c-4833-b0af-75c5e8365467"
      },
      "execution_count": null,
      "outputs": [
        {
          "output_type": "stream",
          "name": "stdout",
          "text": [
            "[ 1  2  3  4  5  6  7  8  9 10 11 12 13 14 15]\n",
            "(15,)\n",
            "[[ 1  6 11]\n",
            " [ 2  7 12]\n",
            " [ 3  8 13]\n",
            " [ 4  9 14]\n",
            " [ 5 10 15]]\n"
          ]
        },
        {
          "output_type": "execute_result",
          "data": {
            "text/plain": [
              "(5, 3)"
            ]
          },
          "metadata": {},
          "execution_count": 195
        }
      ]
    },
    {
      "cell_type": "code",
      "source": [
        "#using ravel method with fortran like order\n",
        "res = arrr.ravel(order = 'F')\n",
        "print(res)\n",
        "res.shape"
      ],
      "metadata": {
        "colab": {
          "base_uri": "https://localhost:8080/"
        },
        "id": "8742r3X8pWQx",
        "outputId": "9d731ba3-8426-4119-a3f6-d5953ef0de5c"
      },
      "execution_count": null,
      "outputs": [
        {
          "output_type": "stream",
          "name": "stdout",
          "text": [
            "[ 1  2  3  4  5  6  7  8  9 10 11 12 13 14 15]\n"
          ]
        },
        {
          "output_type": "execute_result",
          "data": {
            "text/plain": [
              "(15,)"
            ]
          },
          "metadata": {},
          "execution_count": 191
        }
      ]
    },
    {
      "cell_type": "code",
      "source": [
        "#using reshape order to make it one row with 15 values\n",
        "res = arrr.reshape([1, 15], order = 'F')\n",
        "print(res)\n",
        "res.shape\n",
        "#the shape is (1,15), this does not seem a good solution, the previous two are better"
      ],
      "metadata": {
        "colab": {
          "base_uri": "https://localhost:8080/"
        },
        "id": "7aRWgF_Tptwx",
        "outputId": "5c2ebfe0-2910-4277-bf9c-4a2a568bb848"
      },
      "execution_count": null,
      "outputs": [
        {
          "output_type": "stream",
          "name": "stdout",
          "text": [
            "[[ 1  2  3  4  5  6  7  8  9 10 11 12 13 14 15]]\n"
          ]
        },
        {
          "output_type": "execute_result",
          "data": {
            "text/plain": [
              "(1, 15)"
            ]
          },
          "metadata": {},
          "execution_count": 196
        }
      ]
    },
    {
      "cell_type": "markdown",
      "source": [
        "**QUESTION 4**"
      ],
      "metadata": {
        "id": "d97fnlLla0Kn"
      }
    },
    {
      "cell_type": "markdown",
      "source": [
        "**Creating 3d from the 2d arr**"
      ],
      "metadata": {
        "id": "Nb6ZBe1LsLcy"
      }
    },
    {
      "cell_type": "code",
      "source": [
        "#using reshape method to make it 3d array with each column of the 2d arrr is a dimension of the 3d array\n",
        "res3d = arrr.reshape(3,1, 5)\n",
        "print(res3d)\n",
        "res3d.shape\n",
        "print(res3d[0])\n",
        "print(\"-----------\")\n",
        "print(arrr)\n",
        "print(\"------------\")\n",
        "print(arrr[:, 0])\n",
        "\n",
        "res3d[:,:,0]\n"
      ],
      "metadata": {
        "colab": {
          "base_uri": "https://localhost:8080/"
        },
        "id": "TXKfu7FUqpFM",
        "outputId": "a17e6faf-b6c7-497b-d3cc-082d5d1b5003"
      },
      "execution_count": null,
      "outputs": [
        {
          "output_type": "stream",
          "name": "stdout",
          "text": [
            "[[[ 1  6 11  2  7]]\n",
            "\n",
            " [[12  3  8 13  4]]\n",
            "\n",
            " [[ 9 14  5 10 15]]]\n",
            "[[ 1  6 11  2  7]]\n",
            "-----------\n",
            "[[ 1  6 11]\n",
            " [ 2  7 12]\n",
            " [ 3  8 13]\n",
            " [ 4  9 14]\n",
            " [ 5 10 15]]\n",
            "------------\n",
            "[1 2 3 4 5]\n"
          ]
        },
        {
          "output_type": "execute_result",
          "data": {
            "text/plain": [
              "array([[ 1],\n",
              "       [12],\n",
              "       [ 9]])"
            ]
          },
          "metadata": {},
          "execution_count": 248
        }
      ]
    },
    {
      "cell_type": "code",
      "source": [
        "arrr.shape[1]"
      ],
      "metadata": {
        "colab": {
          "base_uri": "https://localhost:8080/"
        },
        "id": "jncQ7S4zYMh-",
        "outputId": "96d39179-dc5a-4751-d26b-09a8531a112f"
      },
      "execution_count": null,
      "outputs": [
        {
          "output_type": "execute_result",
          "data": {
            "text/plain": [
              "3"
            ]
          },
          "metadata": {},
          "execution_count": 234
        }
      ]
    },
    {
      "cell_type": "markdown",
      "source": [
        "**QUESTION 5**"
      ],
      "metadata": {
        "id": "dVu0KyXHa9i9"
      }
    },
    {
      "cell_type": "markdown",
      "source": [
        "**Convert 3d arr back to the previous 2d**"
      ],
      "metadata": {
        "id": "9lcOsiQLr2wo"
      }
    },
    {
      "cell_type": "code",
      "source": [
        "arrBack2d= np.reshape(res3d,(5,3))\n",
        "print(arrBack2d)\n",
        "print(arrBack2d.shape)\n",
        "arrBack2d[: , 0]"
      ],
      "metadata": {
        "colab": {
          "base_uri": "https://localhost:8080/"
        },
        "id": "7MxfV_6UrhPw",
        "outputId": "ba442453-4e2c-4822-cb1d-94b437f2070f"
      },
      "execution_count": null,
      "outputs": [
        {
          "output_type": "stream",
          "name": "stdout",
          "text": [
            "[[ 1  6 11]\n",
            " [ 2  7 12]\n",
            " [ 3  8 13]\n",
            " [ 4  9 14]\n",
            " [ 5 10 15]]\n",
            "(5, 3)\n"
          ]
        },
        {
          "output_type": "execute_result",
          "data": {
            "text/plain": [
              "array([1, 2, 3, 4, 5])"
            ]
          },
          "metadata": {},
          "execution_count": 247
        }
      ]
    },
    {
      "cell_type": "markdown",
      "source": [
        "**QUESTION 6**"
      ],
      "metadata": {
        "id": "xWfb5WFTbCJD"
      }
    },
    {
      "cell_type": "markdown",
      "source": [
        "**The opposite of intersection ways**"
      ],
      "metadata": {
        "id": "xXCcZgI1_Oa2"
      }
    },
    {
      "cell_type": "code",
      "source": [
        "a = np.array([12, 5, 7, 15, 3, 1, 8])\n",
        "b = np.array([14, 6, 3, 11, 19, 12, 5])\n",
        "c = [ element for element in a if element not in b] \n",
        "d = [ element for element in b if element not in a] \n",
        "type(a)\n",
        "con = np.concatenate((c, d))\n",
        "#con is concatenation of the two resulted arrays after only adding the elements that do not exist in the other array\n",
        "con"
      ],
      "metadata": {
        "colab": {
          "base_uri": "https://localhost:8080/"
        },
        "id": "hOgl9t90-Hsb",
        "outputId": "56610a91-377d-420c-9786-39ec172fe106"
      },
      "execution_count": null,
      "outputs": [
        {
          "output_type": "execute_result",
          "data": {
            "text/plain": [
              "array([ 7, 15,  1,  8, 14,  6, 11, 19])"
            ]
          },
          "metadata": {},
          "execution_count": 69
        }
      ]
    },
    {
      "cell_type": "code",
      "source": [],
      "metadata": {
        "id": "cgYhQFN0_3ln"
      },
      "execution_count": null,
      "outputs": []
    },
    {
      "cell_type": "code",
      "source": [
        "a = np.array([12, 5, 7, 15, 3, 1, 8])\n",
        "b = np.array([14, 6, 3, 11, 19, 12, 5])\n",
        "c = np.setdiff1d(a, b)\n",
        "d = np.setdiff1d( b , a)\n",
        "print(c)\n",
        "print(d)\n",
        "# con is the same but instead of using list comprehension we used setdiff1d method\n",
        "con = np.concatenate((c, d))\n",
        "con\n",
        "#Note it is ordered here"
      ],
      "metadata": {
        "colab": {
          "base_uri": "https://localhost:8080/"
        },
        "outputId": "08014737-34d3-4c6d-a2b6-b5725b4ac2aa",
        "id": "r8Q9A5yk_34-"
      },
      "execution_count": null,
      "outputs": [
        {
          "output_type": "stream",
          "name": "stdout",
          "text": [
            "[ 1  7  8 15]\n",
            "[ 6 11 14 19]\n"
          ]
        },
        {
          "output_type": "execute_result",
          "data": {
            "text/plain": [
              "array([ 1,  7,  8, 15,  6, 11, 14, 19])"
            ]
          },
          "metadata": {},
          "execution_count": 250
        }
      ]
    },
    {
      "cell_type": "markdown",
      "source": [
        "**The last question - another attempt with flexible type using genfromtxt:**"
      ],
      "metadata": {
        "id": "MS027OipAtk5"
      }
    },
    {
      "cell_type": "code",
      "source": [
        "wcNYC = pd.read_csv('/content/Module6_Data.csv')\n",
        "wcNYC"
      ],
      "metadata": {
        "colab": {
          "base_uri": "https://localhost:8080/",
          "height": 1000
        },
        "id": "t6QceMNWZJZd",
        "outputId": "5a66c891-1498-42aa-b924-09f38e344162"
      },
      "execution_count": null,
      "outputs": [
        {
          "output_type": "execute_result",
          "data": {
            "text/plain": [
              "    Year  New York City Population  NYC Consumption(Million gallons per day)  \\\n",
              "0   1979                 7102100.0                                    1512.0   \n",
              "1   1980                 7071639.0                                    1506.0   \n",
              "2   1981                 7089241.0                                    1309.0   \n",
              "3   1982                 7109105.0                                    1382.0   \n",
              "4   1983                 7181224.0                                    1424.0   \n",
              "5   1984                 7234514.0                                    1465.0   \n",
              "6   1985                 7274054.0                                    1326.0   \n",
              "7   1986                 7319246.0                                    1351.0   \n",
              "8   1987                 7342476.0                                    1447.0   \n",
              "9   1988                 7353719.0                                    1484.0   \n",
              "10  1989                 7344175.0                                    1402.0   \n",
              "11  1990                 7335650.0                                    1424.0   \n",
              "12  1991                 7374501.0                                    1469.0   \n",
              "13  1992                 7428944.0                                    1369.0   \n",
              "14  1993                 7506166.0                                    1368.5   \n",
              "15  1994                 7570458.0                                    1357.7   \n",
              "16  1995                 7633040.0                                    1325.7   \n",
              "17  1996                 7697812.0                                    1297.9   \n",
              "18  1997                 7773443.0                                    1205.5   \n",
              "19  1998                 7858259.0                                    1219.5   \n",
              "20  1999                 7947660.0                                    1237.2   \n",
              "21  2000                 8008278.0                                    1240.4   \n",
              "22  2001                 8024963.5                                    1184.0   \n",
              "23  2002                 8041649.0                                    1135.6   \n",
              "24  2003                 8058334.5                                    1093.7   \n",
              "25  2004                 8075020.0                                    1099.5   \n",
              "26  2005                 8091705.5                                    1138.0   \n",
              "27  2006                 8108391.0                                    1069.0   \n",
              "28  2007                 8125076.5                                    1114.0   \n",
              "29  2008                 8141762.0                                    1098.0   \n",
              "30  2009                 8158447.5                                    1007.5   \n",
              "31  2010                 8175133.0                                    1039.0   \n",
              "32  2011                 8284098.0                                    1021.0   \n",
              "33  2012                 8361179.0                                    1009.1   \n",
              "34  2013                 8422460.0                                    1006.1   \n",
              "35  2014                 8471990.0                                     996.0   \n",
              "36  2015                 8516502.0                                    1009.0   \n",
              "37  2016                 8537673.0                                    1002.0   \n",
              "38  2017                 8622698.0                                     990.2   \n",
              "\n",
              "    Per Capita(Gallons per person per day)  \n",
              "0                                      213  \n",
              "1                                      213  \n",
              "2                                      185  \n",
              "3                                      194  \n",
              "4                                      198  \n",
              "5                                      203  \n",
              "6                                      182  \n",
              "7                                      185  \n",
              "8                                      197  \n",
              "9                                      202  \n",
              "10                                     191  \n",
              "11                                     194  \n",
              "12                                     199  \n",
              "13                                     184  \n",
              "14                                     182  \n",
              "15                                     179  \n",
              "16                                     174  \n",
              "17                                     169  \n",
              "18                                     155  \n",
              "19                                     155  \n",
              "20                                     156  \n",
              "21                                     155  \n",
              "22                                     148  \n",
              "23                                     141  \n",
              "24                                     136  \n",
              "25                                     136  \n",
              "26                                     141  \n",
              "27                                     132  \n",
              "28                                     137  \n",
              "29                                     135  \n",
              "30                                     123  \n",
              "31                                     127  \n",
              "32                                     123  \n",
              "33                                     121  \n",
              "34                                     119  \n",
              "35                                     118  \n",
              "36                                     118  \n",
              "37                                     117  \n",
              "38                                     115  "
            ],
            "text/html": [
              "\n",
              "  <div id=\"df-53a76340-29f3-4c9e-b66d-c86631518403\">\n",
              "    <div class=\"colab-df-container\">\n",
              "      <div>\n",
              "<style scoped>\n",
              "    .dataframe tbody tr th:only-of-type {\n",
              "        vertical-align: middle;\n",
              "    }\n",
              "\n",
              "    .dataframe tbody tr th {\n",
              "        vertical-align: top;\n",
              "    }\n",
              "\n",
              "    .dataframe thead th {\n",
              "        text-align: right;\n",
              "    }\n",
              "</style>\n",
              "<table border=\"1\" class=\"dataframe\">\n",
              "  <thead>\n",
              "    <tr style=\"text-align: right;\">\n",
              "      <th></th>\n",
              "      <th>Year</th>\n",
              "      <th>New York City Population</th>\n",
              "      <th>NYC Consumption(Million gallons per day)</th>\n",
              "      <th>Per Capita(Gallons per person per day)</th>\n",
              "    </tr>\n",
              "  </thead>\n",
              "  <tbody>\n",
              "    <tr>\n",
              "      <th>0</th>\n",
              "      <td>1979</td>\n",
              "      <td>7102100.0</td>\n",
              "      <td>1512.0</td>\n",
              "      <td>213</td>\n",
              "    </tr>\n",
              "    <tr>\n",
              "      <th>1</th>\n",
              "      <td>1980</td>\n",
              "      <td>7071639.0</td>\n",
              "      <td>1506.0</td>\n",
              "      <td>213</td>\n",
              "    </tr>\n",
              "    <tr>\n",
              "      <th>2</th>\n",
              "      <td>1981</td>\n",
              "      <td>7089241.0</td>\n",
              "      <td>1309.0</td>\n",
              "      <td>185</td>\n",
              "    </tr>\n",
              "    <tr>\n",
              "      <th>3</th>\n",
              "      <td>1982</td>\n",
              "      <td>7109105.0</td>\n",
              "      <td>1382.0</td>\n",
              "      <td>194</td>\n",
              "    </tr>\n",
              "    <tr>\n",
              "      <th>4</th>\n",
              "      <td>1983</td>\n",
              "      <td>7181224.0</td>\n",
              "      <td>1424.0</td>\n",
              "      <td>198</td>\n",
              "    </tr>\n",
              "    <tr>\n",
              "      <th>5</th>\n",
              "      <td>1984</td>\n",
              "      <td>7234514.0</td>\n",
              "      <td>1465.0</td>\n",
              "      <td>203</td>\n",
              "    </tr>\n",
              "    <tr>\n",
              "      <th>6</th>\n",
              "      <td>1985</td>\n",
              "      <td>7274054.0</td>\n",
              "      <td>1326.0</td>\n",
              "      <td>182</td>\n",
              "    </tr>\n",
              "    <tr>\n",
              "      <th>7</th>\n",
              "      <td>1986</td>\n",
              "      <td>7319246.0</td>\n",
              "      <td>1351.0</td>\n",
              "      <td>185</td>\n",
              "    </tr>\n",
              "    <tr>\n",
              "      <th>8</th>\n",
              "      <td>1987</td>\n",
              "      <td>7342476.0</td>\n",
              "      <td>1447.0</td>\n",
              "      <td>197</td>\n",
              "    </tr>\n",
              "    <tr>\n",
              "      <th>9</th>\n",
              "      <td>1988</td>\n",
              "      <td>7353719.0</td>\n",
              "      <td>1484.0</td>\n",
              "      <td>202</td>\n",
              "    </tr>\n",
              "    <tr>\n",
              "      <th>10</th>\n",
              "      <td>1989</td>\n",
              "      <td>7344175.0</td>\n",
              "      <td>1402.0</td>\n",
              "      <td>191</td>\n",
              "    </tr>\n",
              "    <tr>\n",
              "      <th>11</th>\n",
              "      <td>1990</td>\n",
              "      <td>7335650.0</td>\n",
              "      <td>1424.0</td>\n",
              "      <td>194</td>\n",
              "    </tr>\n",
              "    <tr>\n",
              "      <th>12</th>\n",
              "      <td>1991</td>\n",
              "      <td>7374501.0</td>\n",
              "      <td>1469.0</td>\n",
              "      <td>199</td>\n",
              "    </tr>\n",
              "    <tr>\n",
              "      <th>13</th>\n",
              "      <td>1992</td>\n",
              "      <td>7428944.0</td>\n",
              "      <td>1369.0</td>\n",
              "      <td>184</td>\n",
              "    </tr>\n",
              "    <tr>\n",
              "      <th>14</th>\n",
              "      <td>1993</td>\n",
              "      <td>7506166.0</td>\n",
              "      <td>1368.5</td>\n",
              "      <td>182</td>\n",
              "    </tr>\n",
              "    <tr>\n",
              "      <th>15</th>\n",
              "      <td>1994</td>\n",
              "      <td>7570458.0</td>\n",
              "      <td>1357.7</td>\n",
              "      <td>179</td>\n",
              "    </tr>\n",
              "    <tr>\n",
              "      <th>16</th>\n",
              "      <td>1995</td>\n",
              "      <td>7633040.0</td>\n",
              "      <td>1325.7</td>\n",
              "      <td>174</td>\n",
              "    </tr>\n",
              "    <tr>\n",
              "      <th>17</th>\n",
              "      <td>1996</td>\n",
              "      <td>7697812.0</td>\n",
              "      <td>1297.9</td>\n",
              "      <td>169</td>\n",
              "    </tr>\n",
              "    <tr>\n",
              "      <th>18</th>\n",
              "      <td>1997</td>\n",
              "      <td>7773443.0</td>\n",
              "      <td>1205.5</td>\n",
              "      <td>155</td>\n",
              "    </tr>\n",
              "    <tr>\n",
              "      <th>19</th>\n",
              "      <td>1998</td>\n",
              "      <td>7858259.0</td>\n",
              "      <td>1219.5</td>\n",
              "      <td>155</td>\n",
              "    </tr>\n",
              "    <tr>\n",
              "      <th>20</th>\n",
              "      <td>1999</td>\n",
              "      <td>7947660.0</td>\n",
              "      <td>1237.2</td>\n",
              "      <td>156</td>\n",
              "    </tr>\n",
              "    <tr>\n",
              "      <th>21</th>\n",
              "      <td>2000</td>\n",
              "      <td>8008278.0</td>\n",
              "      <td>1240.4</td>\n",
              "      <td>155</td>\n",
              "    </tr>\n",
              "    <tr>\n",
              "      <th>22</th>\n",
              "      <td>2001</td>\n",
              "      <td>8024963.5</td>\n",
              "      <td>1184.0</td>\n",
              "      <td>148</td>\n",
              "    </tr>\n",
              "    <tr>\n",
              "      <th>23</th>\n",
              "      <td>2002</td>\n",
              "      <td>8041649.0</td>\n",
              "      <td>1135.6</td>\n",
              "      <td>141</td>\n",
              "    </tr>\n",
              "    <tr>\n",
              "      <th>24</th>\n",
              "      <td>2003</td>\n",
              "      <td>8058334.5</td>\n",
              "      <td>1093.7</td>\n",
              "      <td>136</td>\n",
              "    </tr>\n",
              "    <tr>\n",
              "      <th>25</th>\n",
              "      <td>2004</td>\n",
              "      <td>8075020.0</td>\n",
              "      <td>1099.5</td>\n",
              "      <td>136</td>\n",
              "    </tr>\n",
              "    <tr>\n",
              "      <th>26</th>\n",
              "      <td>2005</td>\n",
              "      <td>8091705.5</td>\n",
              "      <td>1138.0</td>\n",
              "      <td>141</td>\n",
              "    </tr>\n",
              "    <tr>\n",
              "      <th>27</th>\n",
              "      <td>2006</td>\n",
              "      <td>8108391.0</td>\n",
              "      <td>1069.0</td>\n",
              "      <td>132</td>\n",
              "    </tr>\n",
              "    <tr>\n",
              "      <th>28</th>\n",
              "      <td>2007</td>\n",
              "      <td>8125076.5</td>\n",
              "      <td>1114.0</td>\n",
              "      <td>137</td>\n",
              "    </tr>\n",
              "    <tr>\n",
              "      <th>29</th>\n",
              "      <td>2008</td>\n",
              "      <td>8141762.0</td>\n",
              "      <td>1098.0</td>\n",
              "      <td>135</td>\n",
              "    </tr>\n",
              "    <tr>\n",
              "      <th>30</th>\n",
              "      <td>2009</td>\n",
              "      <td>8158447.5</td>\n",
              "      <td>1007.5</td>\n",
              "      <td>123</td>\n",
              "    </tr>\n",
              "    <tr>\n",
              "      <th>31</th>\n",
              "      <td>2010</td>\n",
              "      <td>8175133.0</td>\n",
              "      <td>1039.0</td>\n",
              "      <td>127</td>\n",
              "    </tr>\n",
              "    <tr>\n",
              "      <th>32</th>\n",
              "      <td>2011</td>\n",
              "      <td>8284098.0</td>\n",
              "      <td>1021.0</td>\n",
              "      <td>123</td>\n",
              "    </tr>\n",
              "    <tr>\n",
              "      <th>33</th>\n",
              "      <td>2012</td>\n",
              "      <td>8361179.0</td>\n",
              "      <td>1009.1</td>\n",
              "      <td>121</td>\n",
              "    </tr>\n",
              "    <tr>\n",
              "      <th>34</th>\n",
              "      <td>2013</td>\n",
              "      <td>8422460.0</td>\n",
              "      <td>1006.1</td>\n",
              "      <td>119</td>\n",
              "    </tr>\n",
              "    <tr>\n",
              "      <th>35</th>\n",
              "      <td>2014</td>\n",
              "      <td>8471990.0</td>\n",
              "      <td>996.0</td>\n",
              "      <td>118</td>\n",
              "    </tr>\n",
              "    <tr>\n",
              "      <th>36</th>\n",
              "      <td>2015</td>\n",
              "      <td>8516502.0</td>\n",
              "      <td>1009.0</td>\n",
              "      <td>118</td>\n",
              "    </tr>\n",
              "    <tr>\n",
              "      <th>37</th>\n",
              "      <td>2016</td>\n",
              "      <td>8537673.0</td>\n",
              "      <td>1002.0</td>\n",
              "      <td>117</td>\n",
              "    </tr>\n",
              "    <tr>\n",
              "      <th>38</th>\n",
              "      <td>2017</td>\n",
              "      <td>8622698.0</td>\n",
              "      <td>990.2</td>\n",
              "      <td>115</td>\n",
              "    </tr>\n",
              "  </tbody>\n",
              "</table>\n",
              "</div>\n",
              "      <button class=\"colab-df-convert\" onclick=\"convertToInteractive('df-53a76340-29f3-4c9e-b66d-c86631518403')\"\n",
              "              title=\"Convert this dataframe to an interactive table.\"\n",
              "              style=\"display:none;\">\n",
              "        \n",
              "  <svg xmlns=\"http://www.w3.org/2000/svg\" height=\"24px\"viewBox=\"0 0 24 24\"\n",
              "       width=\"24px\">\n",
              "    <path d=\"M0 0h24v24H0V0z\" fill=\"none\"/>\n",
              "    <path d=\"M18.56 5.44l.94 2.06.94-2.06 2.06-.94-2.06-.94-.94-2.06-.94 2.06-2.06.94zm-11 1L8.5 8.5l.94-2.06 2.06-.94-2.06-.94L8.5 2.5l-.94 2.06-2.06.94zm10 10l.94 2.06.94-2.06 2.06-.94-2.06-.94-.94-2.06-.94 2.06-2.06.94z\"/><path d=\"M17.41 7.96l-1.37-1.37c-.4-.4-.92-.59-1.43-.59-.52 0-1.04.2-1.43.59L10.3 9.45l-7.72 7.72c-.78.78-.78 2.05 0 2.83L4 21.41c.39.39.9.59 1.41.59.51 0 1.02-.2 1.41-.59l7.78-7.78 2.81-2.81c.8-.78.8-2.07 0-2.86zM5.41 20L4 18.59l7.72-7.72 1.47 1.35L5.41 20z\"/>\n",
              "  </svg>\n",
              "      </button>\n",
              "      \n",
              "  <style>\n",
              "    .colab-df-container {\n",
              "      display:flex;\n",
              "      flex-wrap:wrap;\n",
              "      gap: 12px;\n",
              "    }\n",
              "\n",
              "    .colab-df-convert {\n",
              "      background-color: #E8F0FE;\n",
              "      border: none;\n",
              "      border-radius: 50%;\n",
              "      cursor: pointer;\n",
              "      display: none;\n",
              "      fill: #1967D2;\n",
              "      height: 32px;\n",
              "      padding: 0 0 0 0;\n",
              "      width: 32px;\n",
              "    }\n",
              "\n",
              "    .colab-df-convert:hover {\n",
              "      background-color: #E2EBFA;\n",
              "      box-shadow: 0px 1px 2px rgba(60, 64, 67, 0.3), 0px 1px 3px 1px rgba(60, 64, 67, 0.15);\n",
              "      fill: #174EA6;\n",
              "    }\n",
              "\n",
              "    [theme=dark] .colab-df-convert {\n",
              "      background-color: #3B4455;\n",
              "      fill: #D2E3FC;\n",
              "    }\n",
              "\n",
              "    [theme=dark] .colab-df-convert:hover {\n",
              "      background-color: #434B5C;\n",
              "      box-shadow: 0px 1px 3px 1px rgba(0, 0, 0, 0.15);\n",
              "      filter: drop-shadow(0px 1px 2px rgba(0, 0, 0, 0.3));\n",
              "      fill: #FFFFFF;\n",
              "    }\n",
              "  </style>\n",
              "\n",
              "      <script>\n",
              "        const buttonEl =\n",
              "          document.querySelector('#df-53a76340-29f3-4c9e-b66d-c86631518403 button.colab-df-convert');\n",
              "        buttonEl.style.display =\n",
              "          google.colab.kernel.accessAllowed ? 'block' : 'none';\n",
              "\n",
              "        async function convertToInteractive(key) {\n",
              "          const element = document.querySelector('#df-53a76340-29f3-4c9e-b66d-c86631518403');\n",
              "          const dataTable =\n",
              "            await google.colab.kernel.invokeFunction('convertToInteractive',\n",
              "                                                     [key], {});\n",
              "          if (!dataTable) return;\n",
              "\n",
              "          const docLinkHtml = 'Like what you see? Visit the ' +\n",
              "            '<a target=\"_blank\" href=https://colab.research.google.com/notebooks/data_table.ipynb>data table notebook</a>'\n",
              "            + ' to learn more about interactive tables.';\n",
              "          element.innerHTML = '';\n",
              "          dataTable['output_type'] = 'display_data';\n",
              "          await google.colab.output.renderOutput(dataTable, element);\n",
              "          const docLink = document.createElement('div');\n",
              "          docLink.innerHTML = docLinkHtml;\n",
              "          element.appendChild(docLink);\n",
              "        }\n",
              "      </script>\n",
              "    </div>\n",
              "  </div>\n",
              "  "
            ]
          },
          "metadata": {},
          "execution_count": 4
        }
      ]
    },
    {
      "cell_type": "code",
      "source": [
        "wcNYC_np = np.genfromtxt(\"/content/Module6_Data.csv\", delimiter=\",\", dtype=None, names=True)\n",
        "wcNYC_np"
      ],
      "metadata": {
        "colab": {
          "base_uri": "https://localhost:8080/"
        },
        "id": "6hNm_zg2dXhT",
        "outputId": "a83c436e-290e-4257-f60d-c5619ac93597"
      },
      "execution_count": null,
      "outputs": [
        {
          "output_type": "execute_result",
          "data": {
            "text/plain": [
              "array([(1979, 7102100. , 1512. , 213), (1980, 7071639. , 1506. , 213),\n",
              "       (1981, 7089241. , 1309. , 185), (1982, 7109105. , 1382. , 194),\n",
              "       (1983, 7181224. , 1424. , 198), (1984, 7234514. , 1465. , 203),\n",
              "       (1985, 7274054. , 1326. , 182), (1986, 7319246. , 1351. , 185),\n",
              "       (1987, 7342476. , 1447. , 197), (1988, 7353719. , 1484. , 202),\n",
              "       (1989, 7344175. , 1402. , 191), (1990, 7335650. , 1424. , 194),\n",
              "       (1991, 7374501. , 1469. , 199), (1992, 7428944. , 1369. , 184),\n",
              "       (1993, 7506166. , 1368.5, 182), (1994, 7570458. , 1357.7, 179),\n",
              "       (1995, 7633040. , 1325.7, 174), (1996, 7697812. , 1297.9, 169),\n",
              "       (1997, 7773443. , 1205.5, 155), (1998, 7858259. , 1219.5, 155),\n",
              "       (1999, 7947660. , 1237.2, 156), (2000, 8008278. , 1240.4, 155),\n",
              "       (2001, 8024963.5, 1184. , 148), (2002, 8041649. , 1135.6, 141),\n",
              "       (2003, 8058334.5, 1093.7, 136), (2004, 8075020. , 1099.5, 136),\n",
              "       (2005, 8091705.5, 1138. , 141), (2006, 8108391. , 1069. , 132),\n",
              "       (2007, 8125076.5, 1114. , 137), (2008, 8141762. , 1098. , 135),\n",
              "       (2009, 8158447.5, 1007.5, 123), (2010, 8175133. , 1039. , 127),\n",
              "       (2011, 8284098. , 1021. , 123), (2012, 8361179. , 1009.1, 121),\n",
              "       (2013, 8422460. , 1006.1, 119), (2014, 8471990. ,  996. , 118),\n",
              "       (2015, 8516502. , 1009. , 118), (2016, 8537673. , 1002. , 117),\n",
              "       (2017, 8622698. ,  990.2, 115)],\n",
              "      dtype=[('Year', '<i8'), ('New_York_City_Population', '<f8'), ('NYC_ConsumptionMillion_gallons_per_day', '<f8'), ('Per_CapitaGallons_per_person_per_day', '<i8')])"
            ]
          },
          "metadata": {},
          "execution_count": 11
        }
      ]
    },
    {
      "cell_type": "code",
      "source": [
        "wcNYC_np['Year']"
      ],
      "metadata": {
        "colab": {
          "base_uri": "https://localhost:8080/"
        },
        "id": "JgtMqZ8Ie_fL",
        "outputId": "4f23fc23-71a7-40fd-c8c2-a7ddeae50cbd"
      },
      "execution_count": null,
      "outputs": [
        {
          "output_type": "execute_result",
          "data": {
            "text/plain": [
              "array([1979, 1980, 1981, 1982, 1983, 1984, 1985, 1986, 1987, 1988, 1989,\n",
              "       1990, 1991, 1992, 1993, 1994, 1995, 1996, 1997, 1998, 1999, 2000,\n",
              "       2001, 2002, 2003, 2004, 2005, 2006, 2007, 2008, 2009, 2010, 2011,\n",
              "       2012, 2013, 2014, 2015, 2016, 2017])"
            ]
          },
          "metadata": {},
          "execution_count": 14
        }
      ]
    },
    {
      "cell_type": "code",
      "source": [
        "wcNYC_np[1]"
      ],
      "metadata": {
        "colab": {
          "base_uri": "https://localhost:8080/"
        },
        "id": "Nem5gyp7fNTi",
        "outputId": "628b517a-5164-4363-81b8-d0c7fbd06b2f"
      },
      "execution_count": null,
      "outputs": [
        {
          "output_type": "execute_result",
          "data": {
            "text/plain": [
              "(1980, 7071639., 1506., 213)"
            ]
          },
          "metadata": {},
          "execution_count": 15
        }
      ]
    },
    {
      "cell_type": "code",
      "source": [
        "wcNYC_np.shape"
      ],
      "metadata": {
        "colab": {
          "base_uri": "https://localhost:8080/"
        },
        "id": "3_IrCHsyfPpR",
        "outputId": "b9e8fcbc-a043-404c-d459-df166f4cc5f0"
      },
      "execution_count": null,
      "outputs": [
        {
          "output_type": "execute_result",
          "data": {
            "text/plain": [
              "(39,)"
            ]
          },
          "metadata": {},
          "execution_count": 16
        }
      ]
    },
    {
      "cell_type": "code",
      "source": [
        "wcNYC_np[38]"
      ],
      "metadata": {
        "colab": {
          "base_uri": "https://localhost:8080/"
        },
        "id": "KDd12wkWfVjK",
        "outputId": "f9a1b229-0090-439b-e568-ecd220e01a85"
      },
      "execution_count": null,
      "outputs": [
        {
          "output_type": "execute_result",
          "data": {
            "text/plain": [
              "(2017, 8622698., 990.2, 115)"
            ]
          },
          "metadata": {},
          "execution_count": 18
        }
      ]
    },
    {
      "cell_type": "markdown",
      "source": [
        "What is the maximum yearly NYC consumption of water in millions of gallons per day?"
      ],
      "metadata": {
        "id": "SlGQtTfFBu_B"
      }
    },
    {
      "cell_type": "code",
      "source": [
        "wcNYC_np['NYC_ConsumptionMillion_gallons_per_day'].max()"
      ],
      "metadata": {
        "colab": {
          "base_uri": "https://localhost:8080/"
        },
        "id": "STJdcTuuB9ZA",
        "outputId": "29415f9b-4371-4d3a-a7a2-c19cede4552d"
      },
      "execution_count": null,
      "outputs": [
        {
          "output_type": "execute_result",
          "data": {
            "text/plain": [
              "1512.0"
            ]
          },
          "metadata": {},
          "execution_count": 76
        }
      ]
    },
    {
      "cell_type": "code",
      "source": [
        "nyc_water['NYC_ConsumptionMillion_gallons_per_day'].max()\n"
      ],
      "metadata": {
        "id": "zaue_miLAzBy"
      },
      "execution_count": null,
      "outputs": []
    },
    {
      "cell_type": "code",
      "source": [
        "wcNYC_np['Per_CapitaGallons_per_person_per_day'].mean()"
      ],
      "metadata": {
        "colab": {
          "base_uri": "https://localhost:8080/"
        },
        "id": "BwGWDEG0HgKp",
        "outputId": "4b7fde59-18aa-4b8b-b459-6fed1e11e49c"
      },
      "execution_count": null,
      "outputs": [
        {
          "output_type": "execute_result",
          "data": {
            "text/plain": [
              "160.30769230769232"
            ]
          },
          "metadata": {},
          "execution_count": 95
        }
      ]
    },
    {
      "cell_type": "code",
      "source": [
        "np.std(wcNYC_np, axis=0)"
      ],
      "metadata": {
        "id": "AYfI_7ItKJ_o"
      },
      "execution_count": null,
      "outputs": []
    }
  ]
}