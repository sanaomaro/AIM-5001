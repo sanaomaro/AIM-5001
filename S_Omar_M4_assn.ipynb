{
  "nbformat": 4,
  "nbformat_minor": 0,
  "metadata": {
    "colab": {
      "provenance": [],
      "collapsed_sections": [],
      "authorship_tag": "ABX9TyPFImQi7+CaooSAosNfgkYT",
      "include_colab_link": true
    },
    "kernelspec": {
      "name": "python3",
      "display_name": "Python 3"
    },
    "language_info": {
      "name": "python"
    }
  },
  "cells": [
    {
      "cell_type": "markdown",
      "metadata": {
        "id": "view-in-github",
        "colab_type": "text"
      },
      "source": [
        "<a href=\"https://colab.research.google.com/github/sanaomaro/AIM-5001/blob/main/S_Omar_M4_assn.ipynb\" target=\"_parent\"><img src=\"https://colab.research.google.com/assets/colab-badge.svg\" alt=\"Open In Colab\"/></a>"
      ]
    },
    {
      "cell_type": "code",
      "execution_count": 206,
      "metadata": {
        "colab": {
          "base_uri": "https://localhost:8080/"
        },
        "id": "piWDMlLJjIf_",
        "outputId": "ce82d791-a375-4915-b0bd-32364414f578"
      },
      "outputs": [
        {
          "output_type": "stream",
          "name": "stdout",
          "text": [
            "['high', 'high', '2', '4', 'med', 'low', 'unacc']\n",
            "['high', 'high', '4', 'more', 'small', 'high', 'acc']\n",
            "['high', 'high', '4', 'more', 'big', 'low', 'unacc']\n",
            "['high', 'low', '2', 'more', 'big', 'high', 'acc']\n",
            "['vhigh', 'low', '3', '2', 'med', 'med', 'unacc']\n",
            "['low', 'high', '2', '2', 'small', 'low', 'unacc']\n",
            "['med', 'med', '4', 'more', 'med', 'high', 'vgood']\n",
            "['low', 'low', '3', '2', 'big', 'med', 'unacc']\n",
            "['vhigh', 'low', '2', '2', 'small', 'low', 'unacc']\n",
            "['vhigh', 'high', '4', '4', 'med', 'low', 'unacc']\n",
            "['low', 'low', '2', '2', 'med', 'med', 'unacc']\n",
            "['vhigh', 'low', '4', 'more', 'small', 'high', 'acc']\n",
            "['high', 'low', '2', '4', 'big', 'med', 'acc']\n",
            "['low', 'vhigh', '3', 'more', 'big', 'low', 'unacc']\n",
            "['high', 'low', '5more', '2', 'big', 'med', 'unacc']\n",
            "['vhigh', 'high', '2', 'more', 'med', 'high', 'unacc']\n",
            "['med', 'med', '2', '2', 'small', 'low', 'unacc']\n",
            "['high', 'low', '5more', '4', 'med', 'high', 'acc']\n",
            "['low', 'low', '3', 'more', 'med', 'high', 'vgood']\n",
            "['low', 'low', '2', '2', 'big', 'med', 'unacc']\n",
            "['med', 'high', '4', '2', 'big', 'high', 'unacc']\n",
            "['low', 'low', '2', '2', 'small', 'high', 'unacc']\n",
            "['vhigh', 'high', '5more', '4', 'med', 'med', 'unacc']\n",
            "['med', 'vhigh', '2', '2', 'big', 'low', 'unacc']\n",
            "['low', 'vhigh', '4', '4', 'big', 'low', 'unacc']\n",
            "['vhigh', 'low', '3', 'more', 'big', 'low', 'unacc']\n",
            "['med', 'vhigh', '3', '4', 'small', 'low', 'unacc']\n",
            "['high', 'high', '3', '4', 'med', 'med', 'unacc']\n",
            "['low', 'high', '5more', '2', 'big', 'low', 'unacc']\n",
            "['med', 'high', '5more', '2', 'med', 'med', 'unacc']\n",
            "['high', 'low', '3', '4', 'med', 'high', 'acc']\n",
            "['high', 'vhigh', '5more', '4', 'med', 'med', 'unacc']\n",
            "['low', 'low', '5more', '2', 'med', 'low', 'unacc']\n",
            "['vhigh', 'vhigh', '4', '2', 'big', 'high', 'unacc']\n",
            "['high', 'low', '3', '2', 'big', 'high', 'unacc']\n"
          ]
        }
      ],
      "source": [
        "import csv\n",
        "# be sure to update the path below to reflect your own environment!!\n",
        "# also be sure that the code is properly indented after you paste it!\n",
        "\n",
        "file_path = '/content/cars-sample35.txt'\n",
        "with open(file_path) as csvfile:\n",
        " readCSV = csv.reader(csvfile)\n",
        " for row in readCSV:\n",
        " # print each row as read by the csv.reader function\n",
        "     print(row)"
      ]
    },
    {
      "cell_type": "code",
      "source": [
        "# Read CSV again, extract seven attributes from each line of the file.\n",
        "# Create 7 lists of each rows from ReadCSV files and rename each lists and print out.\n",
        "# Print the result \n",
        "\n",
        "with open(file_path) as csvfile:\n",
        " readCSV = csv.reader(csvfile)\n",
        " Price_list = [] \n",
        " Maint_list = [] \n",
        " Door_list = [] \n",
        " Passenger_list = [] \n",
        " Luggage_list = [] \n",
        " Safety_list = [] \n",
        " Classification_list = []\n",
        " for x in readCSV:\n",
        "       Price_list.append(x[0])\n",
        "       Maint_list.append(x[1])\n",
        "       Door_list.append(x[2])\n",
        "       Passenger_list.append(x[3])\n",
        "       Luggage_list.append(x[4])\n",
        "       Safety_list.append(x[5])\n",
        "       Classification_list.append(x[6])        \n",
        "print(Price_list)\n",
        "print(Maint_list)\n",
        "print(Door_list)\n",
        "print(Passenger_list)\n",
        "print(Luggage_list)\n",
        "print(Safety_list)\n",
        "print(Classification_list)"
      ],
      "metadata": {
        "colab": {
          "base_uri": "https://localhost:8080/"
        },
        "id": "b7cSsG90jRr2",
        "outputId": "82bb2f06-c46e-4221-e67c-608b38fe4570"
      },
      "execution_count": 207,
      "outputs": [
        {
          "output_type": "stream",
          "name": "stdout",
          "text": [
            "['high', 'high', 'high', 'high', 'vhigh', 'low', 'med', 'low', 'vhigh', 'vhigh', 'low', 'vhigh', 'high', 'low', 'high', 'vhigh', 'med', 'high', 'low', 'low', 'med', 'low', 'vhigh', 'med', 'low', 'vhigh', 'med', 'high', 'low', 'med', 'high', 'high', 'low', 'vhigh', 'high']\n",
            "['high', 'high', 'high', 'low', 'low', 'high', 'med', 'low', 'low', 'high', 'low', 'low', 'low', 'vhigh', 'low', 'high', 'med', 'low', 'low', 'low', 'high', 'low', 'high', 'vhigh', 'vhigh', 'low', 'vhigh', 'high', 'high', 'high', 'low', 'vhigh', 'low', 'vhigh', 'low']\n",
            "['2', '4', '4', '2', '3', '2', '4', '3', '2', '4', '2', '4', '2', '3', '5more', '2', '2', '5more', '3', '2', '4', '2', '5more', '2', '4', '3', '3', '3', '5more', '5more', '3', '5more', '5more', '4', '3']\n",
            "['4', 'more', 'more', 'more', '2', '2', 'more', '2', '2', '4', '2', 'more', '4', 'more', '2', 'more', '2', '4', 'more', '2', '2', '2', '4', '2', '4', 'more', '4', '4', '2', '2', '4', '4', '2', '2', '2']\n",
            "['med', 'small', 'big', 'big', 'med', 'small', 'med', 'big', 'small', 'med', 'med', 'small', 'big', 'big', 'big', 'med', 'small', 'med', 'med', 'big', 'big', 'small', 'med', 'big', 'big', 'big', 'small', 'med', 'big', 'med', 'med', 'med', 'med', 'big', 'big']\n",
            "['low', 'high', 'low', 'high', 'med', 'low', 'high', 'med', 'low', 'low', 'med', 'high', 'med', 'low', 'med', 'high', 'low', 'high', 'high', 'med', 'high', 'high', 'med', 'low', 'low', 'low', 'low', 'med', 'low', 'med', 'high', 'med', 'low', 'high', 'high']\n",
            "['unacc', 'acc', 'unacc', 'acc', 'unacc', 'unacc', 'vgood', 'unacc', 'unacc', 'unacc', 'unacc', 'acc', 'acc', 'unacc', 'unacc', 'unacc', 'unacc', 'acc', 'vgood', 'unacc', 'unacc', 'unacc', 'unacc', 'unacc', 'unacc', 'unacc', 'unacc', 'unacc', 'unacc', 'unacc', 'acc', 'unacc', 'unacc', 'unacc', 'unacc']\n"
          ]
        }
      ]
    },
    {
      "cell_type": "code",
      "source": [
        "#indices = list(map(int, labels == lab))\n",
        "\n",
        "#x_sublist = [Price_list[i] for i in range(len(Price_list)) if i in indices]\n",
        "i = 0\n",
        "price_med = []\n",
        "#price_med = [i for i in range(len(Price_list[i])) if Price_list[i] == \"med\"]\n",
        "price_med = [i for i in range(0, len(Price_list)) if Price_list[i] =='med']\n",
        "#res = [x for x, z in enumerate(Price_list) if Price_list =='med'] \n",
        "items = [i for i, Price_list[i] in enumerate(Price_list) if Price_list[i] =='med']\n",
        "#bad_items = [i for i, x in enumerate(L) if x <= threshold]\n",
        "list2 = [i for i, x in enumerate(Price_list) if Price_list[i] =='med']\n",
        "\n",
        "\n",
        "print(price_med)\n",
        "print(items)\n",
        "print(list2)\n",
        "\n",
        "'''By iterating through the indexes of Price_list either by using range or enumerate in list comprehension \n",
        "and giving a condition and making the index a or i as output we get the result wanted'''"
      ],
      "metadata": {
        "colab": {
          "base_uri": "https://localhost:8080/",
          "height": 105
        },
        "id": "9y4yHbHI71uf",
        "outputId": "31df46a0-e05c-48f2-ac41-a3899e34e2f3"
      },
      "execution_count": 208,
      "outputs": [
        {
          "output_type": "stream",
          "name": "stdout",
          "text": [
            "[6, 16, 20, 23, 26, 29]\n",
            "[6, 16, 20, 23, 26, 29]\n",
            "[6, 16, 20, 23, 26, 29]\n"
          ]
        },
        {
          "output_type": "execute_result",
          "data": {
            "text/plain": [
              "'By iterating through the indexes of Price_list either by using range or enumerate in list comprehension \\nand giving a condition and making the index a or i as output we get the result wanted'"
            ],
            "application/vnd.google.colaboratory.intrinsic+json": {
              "type": "string"
            }
          },
          "metadata": {},
          "execution_count": 208
        }
      ]
    },
    {
      "cell_type": "code",
      "source": [
        "#num_of_passengers = [x for x in Passenger_list if Price_list =='med']\n",
        "#Passenger_list[:], Price_list[:] = zip(*((x, y) for (x, y) in zip(Passenger_list, Price_list) if Price_list == \"med\"))\n",
        "num_of_passengers = [Passenger_list[i] for i in range(0, len(Passenger_list)) if Price_list[i] =='med']\n",
        "#this time we need values of no of passengers not their indexes, on the condition of price is med by iterating over the range and using list comprehension"
      ],
      "metadata": {
        "id": "xsTwQoPej9mE"
      },
      "execution_count": 209,
      "outputs": []
    },
    {
      "cell_type": "code",
      "source": [
        "\n",
        "print(num_of_passengers)"
      ],
      "metadata": {
        "colab": {
          "base_uri": "https://localhost:8080/"
        },
        "id": "6jFjQyTc7aXJ",
        "outputId": "c72aa0d7-acc4-4488-9fbb-28d52555c9d4"
      },
      "execution_count": 210,
      "outputs": [
        {
          "output_type": "stream",
          "name": "stdout",
          "text": [
            "['more', '2', '2', '2', '4', '2']\n"
          ]
        }
      ]
    },
    {
      "cell_type": "code",
      "source": [
        "HighPrice_nowlowMaint = [a for a in range(len(Price_list)) if Price_list[a] == 'high' and Maint_list[a] != \"low\"]\n",
        "\n",
        "'''based on two conditions price is high ans maintanance is not low, we iterate over the range of price list returning a as index to get the indexes not the values'''\n",
        "print(HighPrice_nowlowMaint)"
      ],
      "metadata": {
        "colab": {
          "base_uri": "https://localhost:8080/"
        },
        "id": "NSDgaDLy9mz7",
        "outputId": "a0284255-129b-4b81-b98a-285cca5672d2"
      },
      "execution_count": 211,
      "outputs": [
        {
          "output_type": "stream",
          "name": "stdout",
          "text": [
            "[0, 1, 2, 27, 31]\n"
          ]
        }
      ]
    },
    {
      "cell_type": "code",
      "source": [
        "nlist = [ [1, 2, 3], ['A', 'B', 'C'], [4, 5], ['D', 'E'] ]\n",
        "flist = []\n",
        "for x in nlist:\n",
        " for y in x:\n",
        "   flist.append(y)\n",
        "print(flist)"
      ],
      "metadata": {
        "colab": {
          "base_uri": "https://localhost:8080/"
        },
        "id": "0j3N-AnUMTgh",
        "outputId": "5490b2d0-6e5f-4f5e-aa94-8a876be8a8a1"
      },
      "execution_count": 212,
      "outputs": [
        {
          "output_type": "stream",
          "name": "stdout",
          "text": [
            "[1, 2, 3, 'A', 'B', 'C', 4, 5, 'D', 'E']\n"
          ]
        }
      ]
    },
    {
      "cell_type": "code",
      "source": [
        "#it is more like flattening the list into 1d, by looping through its depth as if it is two loops, sublist and nlist\n",
        "flatten_nlist = [val for sublist in nlist for val in sublist]"
      ],
      "metadata": {
        "id": "FZV7ggM1LImz"
      },
      "execution_count": 213,
      "outputs": []
    },
    {
      "cell_type": "code",
      "source": [
        "flatten_nlist"
      ],
      "metadata": {
        "colab": {
          "base_uri": "https://localhost:8080/"
        },
        "id": "o2ik9-PwMG44",
        "outputId": "d671ced2-79a0-4fce-82ec-c1425195191e"
      },
      "execution_count": 214,
      "outputs": [
        {
          "output_type": "execute_result",
          "data": {
            "text/plain": [
              "[1, 2, 3, 'A', 'B', 'C', 4, 5, 'D', 'E']"
            ]
          },
          "metadata": {},
          "execution_count": 214
        }
      ]
    },
    {
      "cell_type": "code",
      "source": [
        "'''def makedict(mylist, x):\n",
        "  #newdict= dict([(x, y) for x, y in mylist])\n",
        "  #dict(zip(name, age))\n",
        "  #newdict  = {x:v for x, v in mylist}\n",
        "  gen = ((i, mylist[i]) for i in range(x))\n",
        "  newdict = dict(gen)\n",
        "  #newdict =dict(zip(mylist[x], range(x)))\n",
        "  # your code goes here\n",
        "  return(newdict)\n",
        "d = makedict(Luggage_list, 5)\n",
        "print(d)\n",
        "nstr = ', '.join('A' + str(key) for key,value in makedict(Luggage_list, 5).items())\n",
        "print(nstr)\n",
        "print(type(nstr))\n",
        "\n",
        "for n in nstr:\n",
        "  print(n)\n",
        "key_list=nstr.split(\",\")\n",
        "dlist = tuple(key_list)\n",
        "print(key_list)\n",
        "print(dlist)\n",
        "for key, value in d.items():\n",
        " \n",
        "  print(key, ':', value)\n",
        "  print(d)'''"
      ],
      "metadata": {
        "colab": {
          "base_uri": "https://localhost:8080/",
          "height": 88
        },
        "id": "aJAJ7LJVMLj2",
        "outputId": "1668704b-9064-4371-f902-9cf85b5e16b3"
      },
      "execution_count": 215,
      "outputs": [
        {
          "output_type": "execute_result",
          "data": {
            "text/plain": [
              "'def makedict(mylist, x):\\n  #newdict= dict([(x, y) for x, y in mylist])\\n  #dict(zip(name, age))\\n  #newdict  = {x:v for x, v in mylist}\\n  gen = ((i, mylist[i]) for i in range(x))\\n  newdict = dict(gen)\\n  #newdict =dict(zip(mylist[x], range(x)))\\n  # your code goes here\\n  return(newdict)\\nd = makedict(Luggage_list, 5)\\nprint(d)\\nnstr = \\', \\'.join(\\'A\\' + str(key) for key,value in makedict(Luggage_list, 5).items())\\nprint(nstr)\\nprint(type(nstr))\\n\\nfor n in nstr:\\n  print(n)\\nkey_list=nstr.split(\",\")\\ndlist = tuple(key_list)\\nprint(key_list)\\nprint(dlist)\\nfor key, value in d.items():\\n \\n  print(key, \\':\\', value)\\n  print(d)'"
            ],
            "application/vnd.google.colaboratory.intrinsic+json": {
              "type": "string"
            }
          },
          "metadata": {},
          "execution_count": 215
        }
      ]
    },
    {
      "cell_type": "code",
      "source": [
        "def makedict(mylist, x):\n",
        "  nstr = ', '.join('A' + str(i) for i in range(x))\n",
        "  tstr = tuple(nstr.split(', '))\n",
        "  print(tstr)\n",
        "  print(type(tstr))\n",
        "  #newdict = {tstr : value for *tstr, value in  zip(tstr, mylist)}\n",
        "  newdict = dict(zip(tstr,mylist))\n",
        " \n",
        "  # your code goes here\n",
        "  return(newdict)\n",
        "d = makedict(Luggage_list, 5)\n",
        "print(d)\n",
        "\n",
        "#nstr = ', '.join('A' + str(i) for i in range(5))\n",
        "#print(nstr)\n",
        "#print(type(nstr))\n",
        "#res = tuple(map(int, nstr.split(', ')))\n",
        "#res = eval(nstr)\n",
        "#my_result = tuple(map(int, nstr.split(', ')))\n",
        "#print(tuple(nstr.split(', ')))\n",
        "\n",
        "''' first taking the x vlaues coverting them into strings and adding them to As, then converting this string into tuples, becaus dictionaries keys must be immutable,\n",
        "then using zip to make a dictionary out of tstr as keys and mylist as values, finally trying out the first five values of luggage list''' "
      ],
      "metadata": {
        "colab": {
          "base_uri": "https://localhost:8080/",
          "height": 105
        },
        "id": "gKujfAroMr1P",
        "outputId": "8bfdc4d1-e09d-40f9-a0a3-df2546eb79de"
      },
      "execution_count": 216,
      "outputs": [
        {
          "output_type": "stream",
          "name": "stdout",
          "text": [
            "('A0', 'A1', 'A2', 'A3', 'A4')\n",
            "<class 'tuple'>\n",
            "{'A0': 'med', 'A1': 'small', 'A2': 'big', 'A3': 'big', 'A4': 'med'}\n"
          ]
        },
        {
          "output_type": "execute_result",
          "data": {
            "text/plain": [
              "' first taking the x vlaues coverting them into strings and adding them to As, then converting this string into tuples, becaus dictionaries keys must be immutable,\\nthen using zip to make a dictionary out of tstr as keys and mylist as values, finally trying out the first five values of luggage list'"
            ],
            "application/vnd.google.colaboratory.intrinsic+json": {
              "type": "string"
            }
          },
          "metadata": {},
          "execution_count": 216
        }
      ]
    },
    {
      "cell_type": "code",
      "source": [
        "pd = makedict(Price_list, 5)\n",
        "print(pd)\n",
        "pL = makedict(Luggage_list, 5)\n",
        "print(pL)\n",
        "#getting alues seperated and priting them respectivly using dict comprehension\n",
        "dict_variable1 = {value for (key,value) in pd.items() if key == 'A4'}\n",
        "dict_variable2 = {value for (key,value) in pL.items() if key == 'A4'}\n",
        "\n",
        "print(dict_variable1, dict_variable2)\n",
        "\n",
        "\n",
        "#making two dict objects each from a list, Price list and Luggage list respectively \n",
        "#trying it combined using intersection between the two dictionary inside dict combrehension\n",
        "dict_variable3 = {k:pd[k] +\" & \"+ pL[k] for k in pd.keys() & pL.keys() if k == 'A4'}\n",
        "print(dict_variable3)"
      ],
      "metadata": {
        "colab": {
          "base_uri": "https://localhost:8080/"
        },
        "id": "52U9lV-cbrtr",
        "outputId": "fd200f9d-0b8f-49aa-a670-89b79ec35b68"
      },
      "execution_count": 217,
      "outputs": [
        {
          "output_type": "stream",
          "name": "stdout",
          "text": [
            "('A0', 'A1', 'A2', 'A3', 'A4')\n",
            "<class 'tuple'>\n",
            "{'A0': 'high', 'A1': 'high', 'A2': 'high', 'A3': 'high', 'A4': 'vhigh'}\n",
            "('A0', 'A1', 'A2', 'A3', 'A4')\n",
            "<class 'tuple'>\n",
            "{'A0': 'med', 'A1': 'small', 'A2': 'big', 'A3': 'big', 'A4': 'med'}\n",
            "{'vhigh'} {'med'}\n",
            "{'A4': 'vhigh & med'}\n"
          ]
        }
      ]
    },
    {
      "cell_type": "code",
      "source": [],
      "metadata": {
        "id": "dtTOe9HxlX5s"
      },
      "execution_count": 217,
      "outputs": []
    }
  ]
}